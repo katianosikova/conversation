{
 "cells": [
  {
   "cell_type": "code",
   "execution_count": null,
   "metadata": {},
   "outputs": [],
   "source": [
    "from utils import *\n",
    "from config import *"
   ]
  },
  {
   "cell_type": "markdown",
   "metadata": {},
   "source": [
    "### Parse Twitter"
   ]
  },
  {
   "cell_type": "code",
   "execution_count": null,
   "metadata": {},
   "outputs": [],
   "source": [
    "from parse_tweets import *"
   ]
  },
  {
   "cell_type": "code",
   "execution_count": null,
   "metadata": {},
   "outputs": [],
   "source": [
    "url = 'https://twitter.com/kanyewest'"
   ]
  },
  {
   "cell_type": "code",
   "execution_count": null,
   "metadata": {},
   "outputs": [],
   "source": [
    "tw = Twitter(url)\n",
    "tw.parse()"
   ]
  },
  {
   "cell_type": "markdown",
   "metadata": {},
   "source": [
    "### Download audio and subtitles from YouTube"
   ]
  },
  {
   "cell_type": "code",
   "execution_count": null,
   "metadata": {},
   "outputs": [],
   "source": [
    "from download_youtube_data import Youtube\n",
    "\n",
    "from pytube.exceptions import VideoUnavailable\n",
    "from pytube.exceptions import RegexMatchError"
   ]
  },
  {
   "cell_type": "markdown",
   "metadata": {},
   "source": [
    "You need video urls to download:"
   ]
  },
  {
   "cell_type": "code",
   "execution_count": null,
   "metadata": {},
   "outputs": [],
   "source": [
    "data_dict = {'sub_code': 'a.en',\n",
    "'video_urls': [\n",
    "    'https://www.youtube.com/watch?v=qxOeWuAHOiw',\n",
    "    'https://www.youtube.com/watch?v=QuOCvKvrwI8',\n",
    "    'https://www.youtube.com/watch?v=27NstO1qOJk', \n",
    "    'https://www.youtube.com/watch?v=7IavRTSxvRo'\n",
    "],\n",
    " 'type_subs': 'auto_generated'}"
   ]
  },
  {
   "cell_type": "code",
   "execution_count": null,
   "metadata": {},
   "outputs": [],
   "source": [
    "id_video_list = []\n",
    "\n",
    "video_urls = data_dict['video_urls']\n",
    "sub_code = data_dict['sub_code']\n",
    "\n",
    "for i, url_video in enumerate(video_urls):\n",
    "    try:\n",
    "        print('%d/%d' %(i+1, len(video_urls)), url_video)\n",
    "        id_video = Youtube(url_video).download_video(source_dir, sub_code)\n",
    "        id_video_list.append(id_video)\n",
    "    except VideoUnavailable:\n",
    "        print('VideoUnavailable')\n",
    "    except RegexMatchError:\n",
    "        print('RegexMatchError')"
   ]
  },
  {
   "cell_type": "markdown",
   "metadata": {},
   "source": [
    "### Crop audio"
   ]
  },
  {
   "cell_type": "code",
   "execution_count": null,
   "metadata": {},
   "outputs": [],
   "source": [
    "for id_video in id_video_list:\n",
    "    crop_audio(id_video)"
   ]
  },
  {
   "cell_type": "markdown",
   "metadata": {},
   "source": [
    "### Diarization"
   ]
  },
  {
   "cell_type": "code",
   "execution_count": null,
   "metadata": {},
   "outputs": [],
   "source": [
    "from diarization import *"
   ]
  },
  {
   "cell_type": "code",
   "execution_count": null,
   "metadata": {},
   "outputs": [],
   "source": [
    "for id_video in id_video_list:\n",
    "    Diarization(id_video).get_diar()"
   ]
  },
  {
   "cell_type": "markdown",
   "metadata": {},
   "source": [
    "### Create conversation"
   ]
  },
  {
   "cell_type": "code",
   "execution_count": null,
   "metadata": {},
   "outputs": [],
   "source": [
    "from get_conversation import Dialog"
   ]
  },
  {
   "cell_type": "markdown",
   "metadata": {},
   "source": [
    "Create speaker labels:"
   ]
  },
  {
   "cell_type": "code",
   "execution_count": null,
   "metadata": {},
   "outputs": [],
   "source": [
    "label_dict = {'Kanye': 0, 'Joe': 1}"
   ]
  },
  {
   "cell_type": "code",
   "execution_count": null,
   "metadata": {},
   "outputs": [],
   "source": [
    "for id_video in id_video_list:\n",
    "    rttm_video_dir = rttm_dir + id_video + '/'\n",
    "    rttm_file_list = os.listdir(rttm_video_dir)\n",
    "    rttm_file_list = [x for x in rttm_file_list if x.startswith(id_video + '_')]\n",
    "\n",
    "    rttm_file_list.sort()\n",
    "    rttm_file = rttm_file_list[0]\n",
    "    step_shift_mins = int(rttm_file.rsplit('_', 1)[-1].replace('.rttm', ''))    \n",
    "\n",
    "    for rttm_file in rttm_file_list:\n",
    "        rttm_file_path = rttm_video_dir + rttm_file\n",
    "        shift_mins = int(rttm_file.rsplit('_', 1)[-1].replace('.rttm', '')) - step_shift_mins \n",
    "\n",
    "        dialog = Dialog(id_video, rttm_file_path, shift_mins)"
   ]
  }
 ],
 "metadata": {
  "kernelspec": {
   "display_name": "Python 3",
   "language": "python",
   "name": "python3"
  },
  "language_info": {
   "codemirror_mode": {
    "name": "ipython",
    "version": 3
   },
   "file_extension": ".py",
   "mimetype": "text/x-python",
   "name": "python",
   "nbconvert_exporter": "python",
   "pygments_lexer": "ipython3",
   "version": "3.8.5"
  }
 },
 "nbformat": 4,
 "nbformat_minor": 4
}
