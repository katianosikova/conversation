{
 "cells": [
  {
   "cell_type": "code",
   "execution_count": 1,
   "metadata": {},
   "outputs": [],
   "source": [
    "from utils import *\n",
    "from config import *"
   ]
  },
  {
   "cell_type": "code",
   "execution_count": 2,
   "metadata": {},
   "outputs": [],
   "source": [
    "dir_list = [data_dir,\n",
    "            youtube_data_dir,\n",
    "            source_dir,\n",
    "            crop_data_dir,\n",
    "            dialogues_dir,\n",
    "            rttm_dir,\n",
    "            twitter_data_dir]"
   ]
  },
  {
   "cell_type": "code",
   "execution_count": 3,
   "metadata": {},
   "outputs": [
    {
     "name": "stdout",
     "output_type": "stream",
     "text": [
      "./Data/ was created\n",
      "./Data/youtube/ was created\n",
      "./Data/youtube/source/ was created\n",
      "./Data/youtube/crop/ was created\n",
      "./Data/youtube/dialogues/ was created\n",
      "./Data/youtube/rttm/ was created\n",
      "./Data/twitter/ was created\n"
     ]
    }
   ],
   "source": [
    "for directory in dir_list:\n",
    "    mkdir(directory)"
   ]
  },
  {
   "cell_type": "code",
   "execution_count": null,
   "metadata": {},
   "outputs": [],
   "source": []
  }
 ],
 "metadata": {
  "kernelspec": {
   "display_name": "Python 3",
   "language": "python",
   "name": "python3"
  },
  "language_info": {
   "codemirror_mode": {
    "name": "ipython",
    "version": 3
   },
   "file_extension": ".py",
   "mimetype": "text/x-python",
   "name": "python",
   "nbconvert_exporter": "python",
   "pygments_lexer": "ipython3",
   "version": "3.8.5"
  }
 },
 "nbformat": 4,
 "nbformat_minor": 4
}
